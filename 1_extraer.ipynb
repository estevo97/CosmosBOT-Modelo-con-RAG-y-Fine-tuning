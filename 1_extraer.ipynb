{
 "cells": [
  {
   "cell_type": "markdown",
   "metadata": {},
   "source": [
    "## NOTEBOOK DE LA API"
   ]
  },
  {
   "cell_type": "code",
   "execution_count": 2,
   "metadata": {},
   "outputs": [],
   "source": [
    "from pytube import YouTube\n",
    "from pytube.exceptions import VideoUnavailable, RegexMatchError\n",
    "from urllib3.exceptions import IncompleteRead\n",
    "from pytubefix import YouTube\n",
    "from pytubefix.cli import on_progress\n",
    "import time\n",
    "import os\n",
    "from dotenv import load_dotenv\n",
    "from openai import OpenAI"
   ]
  },
  {
   "cell_type": "code",
   "execution_count": 3,
   "metadata": {},
   "outputs": [],
   "source": [
    "\n",
    "load_dotenv()\n",
    "apikey = os.getenv(\"clave\")\n",
    "client = OpenAI(api_key=apikey)"
   ]
  },
  {
   "cell_type": "markdown",
   "metadata": {},
   "source": [
    "### Buscamos el vídeo de YouTube del cual queremos descargar el audio."
   ]
  },
  {
   "cell_type": "code",
   "execution_count": 15,
   "metadata": {},
   "outputs": [
    {
     "name": "stdout",
     "output_type": "stream",
     "text": [
      "You can use the tool: https://github.com/YunzheZJU/youtube-po-token-generator, to get the token\n"
     ]
    },
    {
     "name": "stderr",
     "output_type": "stream",
     "text": [
      "Unable to run botGuard. Skipping poToken generation\n",
      "The WEB client requires PoToken to obtain functional streams, See more details at https://github.com/JuanBindez/pytubefix/pull/209\n",
      "The WEB client requires PoToken to obtain functional streams, See more details at https://github.com/JuanBindez/pytubefix/pull/209\n"
     ]
    },
    {
     "name": "stdout",
     "output_type": "stream",
     "text": [
      "¿Por qué se Volvió Loca la Brújula de Colón?\n",
      " ↳ |████████████████████████████████████████████| 100.0%\r"
     ]
    },
    {
     "data": {
      "text/plain": [
       "'c:\\\\Users\\\\estev\\\\OneDrive\\\\Documentos\\\\GitHub\\\\Quantum\\\\¿Por qué se Volvió Loca la Brújula de Colón.mp4'"
      ]
     },
     "execution_count": 15,
     "metadata": {},
     "output_type": "execute_result"
    }
   ],
   "source": [
    "url = \"https://www.youtube.com/watch?v=8gO2zIp_MSQ\n",
    "\"\n",
    "yt = YouTube(url, on_progress_callback = on_progress, use_po_token=True)\n",
    "print(yt.title)\n",
    " \n",
    "ys = yt.streams.get_highest_resolution()\n",
    "ys.download()"
   ]
  },
  {
   "cell_type": "markdown",
   "metadata": {},
   "source": [
    "### Un pequeño paréntesis\n",
    "\n",
    "Al instalar el paquete moviepy (*!pip install moviepy*) y hacer el import de la librería (*from moviepy.editor import $*$*), nos damos cuenta de que nos dá un error, pero en un notebook antiguo que estaba en otro entorno funcionaba correctamente el import. Este hecho suele ser bastante común cuando hay actualizaciones internas en los paquetes que nos descargamos; veamos por qué nos ha dado este error.\n",
    "\n",
    "- Dos entornos diferentes: El notebook en el que se importan correctamente las librerías del paquete está en un entorno diferente que el presente notebook.\n",
    "- Actualización interna: El nuevo paquete actualizado es más simple y para importar basta con hacer un *from moviepy import $*$*, en lugar del antiguo que requería de un *from moviepy.editor import $*$*.\n",
    "- Almacenamiento en la caché: La caché del otro entorno ya había almacenado este paquete desde la primera vez que se instaló, con la versión vieja. Esto quiere decir que, aunque haga nuevos pip install, se hacen con la version vieja almacenada en la caché, por lo que las librerías se importan a la vieja usanza (en el otro notebook me refiero, en este se hacen a la nueva)."
   ]
  },
  {
   "cell_type": "code",
   "execution_count": 7,
   "metadata": {},
   "outputs": [],
   "source": [
    "# Crear un script para extraer el audio de un video local\n",
    "from moviepy import *\n"
   ]
  },
  {
   "cell_type": "code",
   "execution_count": 16,
   "metadata": {},
   "outputs": [
    {
     "name": "stdout",
     "output_type": "stream",
     "text": [
      "{'video_found': True, 'audio_found': True, 'metadata': {'major_brand': 'mp42', 'minor_version': '0', 'compatible_brands': 'isommp42', 'encoder': 'Google'}, 'inputs': [{'streams': [{'input_number': 0, 'stream_number': 0, 'stream_type': 'video', 'language': None, 'default': True, 'size': [640, 360], 'bitrate': 375, 'fps': 25.0, 'codec_name': 'h264', 'profile': '(Main)', 'metadata': {'Metadata': '', 'handler_name': 'ISO Media file produced by Google Inc.', 'vendor_id': '[0][0][0][0]'}}, {'input_number': 0, 'stream_number': 1, 'stream_type': 'audio', 'language': 'eng', 'default': True, 'fps': 44100, 'bitrate': 95, 'metadata': {'Metadata': '', 'handler_name': 'ISO Media file produced by Google Inc.', 'vendor_id': '[0][0][0][0]'}}], 'input_number': 0}], 'duration': 752.02, 'bitrate': 473, 'start': 0.0, 'default_video_input_number': 0, 'default_video_stream_number': 0, 'video_codec_name': 'h264', 'video_profile': '(Main)', 'video_size': [640, 360], 'video_bitrate': 375, 'video_fps': 25.0, 'default_audio_input_number': 0, 'default_audio_stream_number': 1, 'audio_fps': 44100, 'audio_bitrate': 95, 'video_duration': 752.02, 'video_n_frames': 18800}\n",
      "c:\\Users\\estev\\OneDrive\\Documentos\\GitHub\\mi_nuevo_entorno\\lib\\site-packages\\imageio_ffmpeg\\binaries\\ffmpeg-win-x86_64-v7.1.exe -i mp4s/¿Por qué se Volvió Loca la Brújula de Colón.mp4 -loglevel error -f image2pipe -vf scale=640:360 -sws_flags bicubic -pix_fmt rgb24 -vcodec rawvideo -\n",
      "MoviePy - Writing audio in mp3s/quantumbrujulacolon.mp3\n"
     ]
    },
    {
     "name": "stderr",
     "output_type": "stream",
     "text": [
      "                                                                        "
     ]
    },
    {
     "name": "stdout",
     "output_type": "stream",
     "text": [
      "MoviePy - Done.\n"
     ]
    },
    {
     "name": "stderr",
     "output_type": "stream",
     "text": [
      "\r"
     ]
    }
   ],
   "source": [
    "\n",
    "# Dar la ruta correcta al archivo\n",
    "video_path = \"mp4s/¿Por qué se Volvió Loca la Brújula de Colón.mp4\"\n",
    "video = VideoFileClip(video_path)\n",
    "audio = video.audio\n",
    "audio.write_audiofile(\"mp3s/quantumbrujulacolon.mp3\")"
   ]
  },
  {
   "cell_type": "markdown",
   "metadata": {},
   "source": [
    "## Transcripción del audio"
   ]
  },
  {
   "cell_type": "code",
   "execution_count": 21,
   "metadata": {},
   "outputs": [],
   "source": [
    "from openai import OpenAI\n",
    "client = OpenAI(api_key=apikey)\n",
    "\n",
    "\n",
    "audio_file= open(\"mp3s/quantumandromeda.mp3\", \"rb\")\n",
    "transcription = client.audio.transcriptions.create(\n",
    "  model=\"whisper-1\", \n",
    "  file=audio_file\n",
    ")\n",
    "\n",
    "with open(\"transcription_andromeda.txt\", \"w\", encoding=\"utf-8\") as f:\n",
    "    f.write(transcription.text)\n",
    "    f.close()"
   ]
  }
 ],
 "metadata": {
  "kernelspec": {
   "display_name": "Python (mi_nuevo_entorno)",
   "language": "python",
   "name": "mi_nuevo_entorno"
  },
  "language_info": {
   "codemirror_mode": {
    "name": "ipython",
    "version": 3
   },
   "file_extension": ".py",
   "mimetype": "text/x-python",
   "name": "python",
   "nbconvert_exporter": "python",
   "pygments_lexer": "ipython3",
   "version": "3.10.11"
  }
 },
 "nbformat": 4,
 "nbformat_minor": 2
}
