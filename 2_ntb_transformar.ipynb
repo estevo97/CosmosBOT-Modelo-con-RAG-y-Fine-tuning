{
 "cells": [
  {
   "cell_type": "markdown",
   "metadata": {},
   "source": [
    "## 1. Tokenización del texto"
   ]
  },
  {
   "cell_type": "markdown",
   "metadata": {},
   "source": [
    "### Cargamos el texto "
   ]
  },
  {
   "cell_type": "code",
   "execution_count": 2,
   "metadata": {},
   "outputs": [],
   "source": [
    "trs = r'transcription.txt'\n",
    "with open(trs, 'r') as f:\n",
    "    text = f.read()"
   ]
  },
  {
   "cell_type": "markdown",
   "metadata": {},
   "source": [
    "### Importamos OpenAI"
   ]
  },
  {
   "cell_type": "code",
   "execution_count": 32,
   "metadata": {},
   "outputs": [],
   "source": [
    "import tiktoken\n",
    "import openai\n",
    "from openai import OpenAI\n",
    "import os\n",
    "from dotenv import load_dotenv\n",
    "\n",
    "load_dotenv()\n",
    "apikey = os.getenv(\"clave\")\n",
    "client = OpenAI(api_key=apikey)"
   ]
  },
  {
   "cell_type": "markdown",
   "metadata": {},
   "source": [
    "### Número de tokens del texto\n",
    "\n",
    "Queremos saber cuántos tokens tiene el texto. Para ello utilizamos una función creada por nosotros mismos y por otro lado usamos el propio contador de tokens de OpenAI. \n",
    "\n",
    "- Función *num_tokens_from_messages*\n",
    "\n",
    "Dado un modelo de gpt y una lista de mensajes, medimos la lungitud, en tokens, de cada uno de los mensajes y sumamos el total. En este caso particular, nuestro texto transcrito es el único mensaje y tiene 3817 tokens. Cabe señalar que os tokens no tienen por qué coincidir con el número de palabras; una misma palabra puede contecer más de un token (prefijos, sufijos, desinencias, conjugaciones, etc.) y los signos de puntuación también figuran como tokens.\n",
    "\n"
   ]
  },
  {
   "cell_type": "code",
   "execution_count": 33,
   "metadata": {},
   "outputs": [
    {
     "name": "stdout",
     "output_type": "stream",
     "text": [
      "gpt-3.5-turbo\n",
      "3825 prompt tokens counted by num_tokens_from_messages().\n",
      "3832 prompt tokens counted by the OpenAI API.\n",
      "\n"
     ]
    }
   ],
   "source": [
    "def num_tokens_from_messages(messages, model):\n",
    "    encoding = tiktoken.encoding_for_model(model)\n",
    "    num_tokens = 0\n",
    "    for message in messages:\n",
    "        num_tokens += len(encoding.encode(message))\n",
    "    return num_tokens\n",
    "\n",
    "model = \"gpt-3.5-turbo\"\n",
    "\n",
    "print(model)\n",
    "# example token count from the function defined above\n",
    "print(f\"{num_tokens_from_messages([text], model)} prompt tokens counted by num_tokens_from_messages().\")\n",
    "# example token count from the OpenAI API\n",
    "response = client.chat.completions.create(model=model,\n",
    "                                          messages=[{\"role\": \"user\", \"content\": text}],\n",
    "                                          temperature=0,\n",
    "                                          max_tokens=1)\n",
    "print(f'{response.usage.prompt_tokens} prompt tokens counted by the OpenAI API.')\n",
    "print()"
   ]
  },
  {
   "cell_type": "markdown",
   "metadata": {},
   "source": [
    "## 2. Uso de gpt-4o con el texto"
   ]
  },
  {
   "cell_type": "markdown",
   "metadata": {},
   "source": [
    "Le pedimos al modelo gpt-4o que formule 10 preguntas con sus correspondientes respuestas."
   ]
  },
  {
   "cell_type": "code",
   "execution_count": 34,
   "metadata": {},
   "outputs": [
    {
     "data": {
      "text/plain": [
       "[('1. ¿Qué diferencia notable se observa entre las fotografías de los años 50 y las imágenes modernas de la misma región del cielo?',\n",
       "  ['En las fotografías de los años 50 de las regiones del cielo se observa notablemente menos claridad y nivel de detalle en comparación con las imágenes modernas. Esto se debe a los avances tecnológicos significativos en los equipos de observación astronómica, como la mejora en la resolución de los telescopios y las habilidades de procesamiento de imagen. Mientras las fotos antiguas ofrecían un esquema más básico y limitada capacidad para captar la tenue expresión de estas luces estelares, las modernas capturan un universo repleto de colores vibrantes y detalles intrigantes que antes eran invisibles, aportando una percepción mucho más vívida del firmamento que nos rodea.']),\n",
       " ('2. ¿Cuántas estrellas han sido reportadas como desaparecidas desde los años 50 según los científicos?',\n",
       "  ['Hasta la fecha de corte de mi conocimiento, se han reportado cerca de 100 estrellas que aparentemente han \"desaparecido\" desde los años 50. Este fenómeno es parte de la búsqueda de \"Estrellas Desaparecidas y Murientes\", un proyecto científico que investiga posibles fenómenos cósmicos no explicados como agujeros negros en formación o civilizaciones extraterrestres altamente avanzadas que podrían ser responsables de estas desapariciones estelares inexplicables en los catálogos astronómicos históricos.']),\n",
       " ('3. ¿Qué posibles explicaciones se han propuesto para la desaparición de estas estrellas?',\n",
       "  ['Se han propuesto varias explicaciones para la desaparición de estas estrellas. Una posibilidad es que las estrellas hayan experimentado un colapso sin una explosión visible de supernova, un fenómeno que podría dar lugar a la formación de un agujero negro \"acuidador silencioso\". Otra idea sugiere que podrían haber experimentado un un cambio extremo en luminosidad, quizás envueltas solitarias en polvo estelar. También puede ser el resultado de procesos astrológicos extremos que aún desconocemos o no comprendemos por completo. Además, está la especulación asociada a modos de estrella variables inusualmente debilitadas u ocultas, pero esas razones juegan con piezas que todavía nos faltan fundamentalicemente para reunificarlas claramente.']),\n",
       " ('4. ¿Por qué las supernovas no son una explicación viable para las 5.000 estrellas perdidas?',\n",
       "  ['Las supernovas no son una explicación viable para las 5.000 estrellas perdidas porque las explosiones de supernova son fenómenos extremadamente brillantes y activos que podrían dejar rastros observables en el cielo, como remanentes de supernova. Si hubiera ocurrido una verdadera multitud de supernovas para que tantas estrellas desaparecieran, esta actividad habría generado grandes cantidades de energía liberada, lo cual no ha sido observado. Además, es extremadamente raro y improbable que tantas estrellas sufrieran estos sucesos simultáneamente. La desaparición de esos miles de estrellas sugiere que otras explicaciones podrían ser necesarias, más allá de fenómenos naturales conocidos como las supernovas.']),\n",
       " ('5. ¿Qué es una supernova fallida y cómo podría estar relacionada con la desaparición de estrellas?',\n",
       "  ['Una supernova fallida es un fenómeno fascinante que ocurre cuando una estrella masiva intenta terminar su ciclo de vida a través de una explosión de supernova, pero esta no se concreta efectivamente. Se cree que, en lugar de estallar, el núcleo de la estrella colapsa directamente en un agujero negro. Durante este proceso, la estrella puede perder gran parte de su brillo y parecer que \"desaparece\". Esta desaparición aparente está relacionada con la reducción drástica de radiación que emite, lo que podría hacerla prácticamente invisible desde nuestra perspectiva en la Tierra. En resumen, una supernova fallida podría ser una explicación detrás de la desaparición de ciertas estrellas, ya que tras el colapso se transforman en agujeros negros, dándoles un final bastante silencioso en vez de una explosión luminosa y espectacular.']),\n",
       " ('6. ¿Qué papel podrían jugar los asteroides en la desaparición de estrellas de las imágenes antiguas?',\n",
       "  ['En el misterio de la desaparición de algunas estrellas en imágenes astronómicas antiguas, los asteroides pueden ser actores circunstanciales interesantes. Es posible que, si un asteroide pasa directamente entre la Tierra y una estrella distante en el momento exacto de la observación, pueda bloquear temporalmente la luz de esa estrella para ciertas cantidades de tiempo, dando la ilusión de que la estrella \"desapareció\". Sin embargo, esta sería una rara coincidencia, dado el movimiento rápido y generalmente predecible de los asteroides.',\n",
       "   '',\n",
       "   'Dicho esto, es más probable que otros fenómenos sean responsables de tales desapariciones en registros históricos, como errores en las antiguas técnicas de observación, instrumentos defectuosos o fenómenos estelares naturales que causen que una estrella disminuya su brillo temporalmente.']),\n",
       " ('7. ¿Qué es un tecnomarcador y cómo podría explicar la desaparición de estrellas?',\n",
       "  ['Un tecnomarcador es un concepto técnico que hace referencia a cualquier signo, señal o evidencia de la existencia y actividades de una civilización tecnológica avanzada, sobre todo a escala astronómica. Estos indicios cubren desde transmisiones de radio hasta ingenios a gran escala alrededor de estrellas.',\n",
       "   '',\n",
       "   'En cuanto a su conexión con la desaparición de estrellas, hay una teoría intrigante dentro del ámbito de la astronomía y la búsqueda de inteligencia extraterrestre: la hipotética construcción de megaestructuras, como esferas de Dyson, podría tapar o alterar la luz emanando de una estrella desde nuestra perspectiva en la Tierra. La civilización detrás de este tecnomarcador podría estar cosechando la energía del astro, haciendo que estas estrellas \"desaparezcan\" visualmente para nosotros al cubrirlas en un grado significativo. Aunque prácticas, estas hipótesis imposibles hasta que encontremos evidencias son aventuradas pero despertantes a nuestras ganas irreneculudables de entender']),\n",
       " ('8. ¿Qué fenómeno transitorio podría explicar el cambio de brillo de las estrellas desde los años 50?',\n",
       "  ['Un fenómeno transitorio que podría explicar el cambio de brillo de las estrellas desde los años 50 es el tránsito de exoplanetas. Estos son planetas que pasan frente a su estrella desde nuestro punto de vista, ocasionando una ligera disminución en el brillo percibido de la estrella. Además, eventos como manchas estelares o erupciones también pueden provocar fluctuaciones en el brillo de las estrellas. Otra posibilidad son las microlentes gravitacionales, donde la gravedad de un objeto masivo pasa entre una estrella lejana y la Tierra, dispersando su luz y provocando cambios aparentes en el brillo.']),\n",
       " ('9. ¿Qué hipótesis se propuso para explicar la desaparición de tres estrellas en menos de',\n",
       "  ['En la búsqueda de entender fenómenos celestiales inexplicados, la desaparición de tres estrellas en un corto lapso alimenta diversas hipótesis y conjeturas de la comunidad astronómica. Entre dichas teorías se plantea inicialmente que estas estrellas podrían haber sufrido un colapso masivo, convirtiéndose rápida e imperceptiblemente en agujeros negros, y evadiendo así su detección estándar.',\n",
       "   '',\n",
       "   'Otra posibilidad reside en la noción de que una nube de materia interestelar densa pudo haber interferido con nuestra línea de visión, cubriendo bastante las estrellas desaparecidas, tal como una niebla espesa ocultaría las montañas de una mirada más superficial en la Tierra.',\n",
       "   '',\n",
       "   'Finalmente, ciertos teóricos han sugerido eventuales fenómenos extremos menos comprendidos, como brillantes explosiones supernova que inmediatamente sobreexigieron la vitalización estelar, provocando su rápida atenuación<.',\n",
       "   '',\n",
       "   'Enfrentar la desaparición de estas estrellas requiere exploraciones múltiples cuidando los'])]"
      ]
     },
     "execution_count": 34,
     "metadata": {},
     "output_type": "execute_result"
    }
   ],
   "source": [
    "def generar_preguntas_respuestas(texto):\n",
    "    preguntas_respuestas = []\n",
    "    completion = client.chat.completions.create(\n",
    "        model=\"gpt-4o\",\n",
    "        messages=[{\"role\": \"assistant\", \"content\": f\"Genera 10 preguntas sobre el siguiente texto{texto}\"}],\n",
    "        temperature=0.6,\n",
    "        max_tokens=200,\n",
    "        top_p=0.7,\n",
    "        frequency_penalty=0,\n",
    "        presence_penalty=0\n",
    "    )\n",
    "\n",
    "    preguntas = completion.choices[0].message.content.split(\"\\n\")\n",
    "\n",
    "    #generar respuestas por cada pregunta\n",
    "    for pregunta in preguntas:\n",
    "        completion = client.chat.completions.create(\n",
    "            model=\"gpt-4o\",\n",
    "            messages=[\n",
    "                {\"role\": \"user\", \"content\": \"Responde cada pregunta con la mayor similitud al texto recibido, manteniendo la personalidad de origen, palabras claves, tono, forma de expresión y contexto.\"},\n",
    "                {\n",
    "                    \"role\": \"user\",\n",
    "                    \"content\": pregunta\n",
    "                }\n",
    "            ],\n",
    "            temperature=1.4,\n",
    "            max_tokens=200,\n",
    "            top_p=1,\n",
    "            frequency_penalty=0,\n",
    "            presence_penalty=0\n",
    "        )\n",
    "\n",
    "        respuesta = completion.choices[0].message.content.split(\"\\n\")\n",
    "        preguntas_respuestas.append((pregunta, respuesta))\n",
    "\n",
    "    return preguntas_respuestas\n",
    "\n",
    "\n",
    "generar_preguntas_respuestas(text)\n",
    "\n"
   ]
  }
 ],
 "metadata": {
  "kernelspec": {
   "display_name": "Python (mi_nuevo_entorno)",
   "language": "python",
   "name": "mi_nuevo_entorno"
  },
  "language_info": {
   "codemirror_mode": {
    "name": "ipython",
    "version": 3
   },
   "file_extension": ".py",
   "mimetype": "text/x-python",
   "name": "python",
   "nbconvert_exporter": "python",
   "pygments_lexer": "ipython3",
   "version": "3.10.11"
  }
 },
 "nbformat": 4,
 "nbformat_minor": 2
}
