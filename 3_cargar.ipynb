{
 "cells": [
  {
   "cell_type": "markdown",
   "metadata": {},
   "source": [
    "### Cargando librerías"
   ]
  },
  {
   "cell_type": "code",
   "execution_count": 1,
   "metadata": {},
   "outputs": [],
   "source": [
    "from openai import OpenAI\n",
    "import os \n",
    "from dotenv import load_dotenv\n",
    "import json\n",
    "\n",
    "load_dotenv()\n",
    "apikey = os.getenv(\"clave\")\n",
    "client = OpenAI(api_key=apikey)"
   ]
  },
  {
   "cell_type": "markdown",
   "metadata": {},
   "source": [
    "### Creando el archivo en openai.platform para nuestro jsonl"
   ]
  },
  {
   "cell_type": "code",
   "execution_count": 2,
   "metadata": {},
   "outputs": [
    {
     "data": {
      "text/plain": [
       "FileObject(id='file-MeUC6JRcmAdLm8WWSsCN1j', bytes=75978, created_at=1738433814, filename='preguntas_respuestas.jsonl', object='file', purpose='fine-tune', status='processed', status_details=None)"
      ]
     },
     "execution_count": 2,
     "metadata": {},
     "output_type": "execute_result"
    }
   ],
   "source": [
    "client.files.create(\n",
    "    file=open('preguntas_respuestas.jsonl','rb'),\n",
    "    purpose='fine-tune'\n",
    ")"
   ]
  },
  {
   "cell_type": "markdown",
   "metadata": {},
   "source": [
    "### Creando el job de Fine tuning para el archivo"
   ]
  },
  {
   "cell_type": "markdown",
   "metadata": {},
   "source": [
    "*Ignorar el training file que se muestra: el training file verdadero es otro.*"
   ]
  },
  {
   "cell_type": "code",
   "execution_count": 3,
   "metadata": {},
   "outputs": [
    {
     "data": {
      "text/plain": [
       "FineTuningJob(id='ftjob-zVjyC3xPBZ6m94ONX0Lrz9ln', created_at=1738433825, error=Error(code=None, message=None, param=None), fine_tuned_model=None, finished_at=None, hyperparameters=Hyperparameters(batch_size='auto', learning_rate_multiplier='auto', n_epochs='auto'), model='gpt-3.5-turbo-0125', object='fine_tuning.job', organization_id='org-sXPAQ2yFy89xxYwRGJMDcmrk', result_files=[], seed=791077149, status='validating_files', trained_tokens=None, training_file='file-MeUC6JRcmAdLm8WWSsCN1j', validation_file=None, estimated_finish=None, integrations=[], method=Method(dpo=None, supervised=MethodSupervised(hyperparameters=MethodSupervisedHyperparameters(batch_size='auto', learning_rate_multiplier='auto', n_epochs='auto')), type='supervised'), user_provided_suffix=None)"
      ]
     },
     "execution_count": 3,
     "metadata": {},
     "output_type": "execute_result"
    }
   ],
   "source": [
    "client.fine_tuning.jobs.create(\n",
    "    training_file='file-MeUC6JRcmAdLm8WWSsCN1j',\n",
    "    model='gpt-3.5-turbo-0125'\n",
    ")"
   ]
  },
  {
   "cell_type": "code",
   "execution_count": 38,
   "metadata": {},
   "outputs": [
    {
     "name": "stdout",
     "output_type": "stream",
     "text": [
      "SyncCursorPage[FineTuningJob](data=[FineTuningJob(id='ftjob-VAZiOjH9VsXFdW4MV3kk3JbA', created_at=1738171449, error=Error(code=None, message=None, param=None), fine_tuned_model=None, finished_at=None, hyperparameters=Hyperparameters(n_epochs='auto', batch_size='auto', learning_rate_multiplier='auto'), model='gpt-3.5-turbo-0125', object='fine_tuning.job', organization_id='org-sXPAQ2yFy89xxYwRGJMDcmrk', result_files=[], seed=1868842466, status='validating_files', trained_tokens=None, training_file='file-7M4bsxhtG3jPFuKDYdqvbE', validation_file=None, estimated_finish=None, integrations=[], user_provided_suffix=None, method={'type': 'supervised', 'supervised': {'hyperparameters': {'n_epochs': 'auto', 'batch_size': 'auto', 'learning_rate_multiplier': 'auto'}}}), FineTuningJob(id='ftjob-VPRpCOUFlNd1AahurpWBHEEi', created_at=1738171426, error=Error(code=None, message=None, param=None), fine_tuned_model=None, finished_at=None, hyperparameters=Hyperparameters(n_epochs=3, batch_size=1, learning_rate_multiplier=2), model='gpt-3.5-turbo-0125', object='fine_tuning.job', organization_id='org-sXPAQ2yFy89xxYwRGJMDcmrk', result_files=[], seed=577401413, status='running', trained_tokens=None, training_file='file-HKhahpBNKJqfnfaZvf7JxF', validation_file=None, estimated_finish=None, integrations=[], user_provided_suffix=None, method={'type': 'supervised', 'supervised': {'hyperparameters': {'n_epochs': 3, 'batch_size': 1, 'learning_rate_multiplier': 2.0}}}), FineTuningJob(id='ftjob-fYpGFIAmocp8yREnKqXrz7Lk', created_at=1738170519, error=Error(code=None, message=None, param=None), fine_tuned_model='ft:gpt-3.5-turbo-0125:personal::Av5wrAAC', finished_at=1738170923, hyperparameters=Hyperparameters(n_epochs=3, batch_size=1, learning_rate_multiplier=2), model='gpt-3.5-turbo-0125', object='fine_tuning.job', organization_id='org-sXPAQ2yFy89xxYwRGJMDcmrk', result_files=['file-57G7SuPQLuyadxAK9iBvRo'], seed=75345338, status='succeeded', trained_tokens=26964, training_file='file-HKhahpBNKJqfnfaZvf7JxF', validation_file=None, estimated_finish=None, integrations=[], user_provided_suffix=None, method={'type': 'supervised', 'supervised': {'hyperparameters': {'n_epochs': 3, 'batch_size': 1, 'learning_rate_multiplier': 2.0}}}), FineTuningJob(id='ftjob-8rjHZp0srz7BYgd4EdaLrTrQ', created_at=1738077753, error=Error(code=None, message=None, param=None), fine_tuned_model='ft:gpt-3.5-turbo-0125:personal::Auhnq23W', finished_at=1738078108, hyperparameters=Hyperparameters(n_epochs=6, batch_size=1, learning_rate_multiplier=2), model='gpt-3.5-turbo-0125', object='fine_tuning.job', organization_id='org-sXPAQ2yFy89xxYwRGJMDcmrk', result_files=['file-1dKSj53r5HoTPkbEPudwot'], seed=251609011, status='succeeded', trained_tokens=14724, training_file='file-Y7M5iY1sWPEhtfwvdNw4kK', validation_file=None, estimated_finish=None, integrations=[], user_provided_suffix=None, method={'type': 'supervised', 'supervised': {'hyperparameters': {'n_epochs': 6, 'batch_size': 1, 'learning_rate_multiplier': 2.0}}}), FineTuningJob(id='ftjob-6aTjMB5OfpJOvbI4rJnLuyTI', created_at=1737984231, error=Error(code='invalid_n_examples', message='Training file has 4 example(s), but must have at least 10 examples', param='training_file'), fine_tuned_model=None, finished_at=None, hyperparameters=Hyperparameters(n_epochs='auto', batch_size='auto', learning_rate_multiplier='auto'), model='gpt-3.5-turbo-0125', object='fine_tuning.job', organization_id='org-sXPAQ2yFy89xxYwRGJMDcmrk', result_files=[], seed=454166871, status='failed', trained_tokens=None, training_file='file-4tEoaq3rDXWSahramoXvsK', validation_file=None, estimated_finish=None, integrations=[], user_provided_suffix=None, method={'type': 'supervised', 'supervised': {'hyperparameters': {'n_epochs': 'auto', 'batch_size': 'auto', 'learning_rate_multiplier': 'auto'}}}), FineTuningJob(id='ftjob-Bux3xWqc6nFbdvF6W6xLTY3B', created_at=1737984132, error=Error(code=None, message=None, param=None), fine_tuned_model='ft:gpt-3.5-turbo-0125:personal::AuJQoVbu', finished_at=1737984424, hyperparameters=Hyperparameters(n_epochs=5, batch_size=1, learning_rate_multiplier=2), model='gpt-3.5-turbo-0125', object='fine_tuning.job', organization_id='org-sXPAQ2yFy89xxYwRGJMDcmrk', result_files=['file-JpA8k5gyuzLGRocNGjtnrN'], seed=1030911906, status='succeeded', trained_tokens=22700, training_file='file-fOZNtCPCfAx3nKZfLPjNvqod', validation_file=None, estimated_finish=None, integrations=[], user_provided_suffix=None, method={'type': 'supervised', 'supervised': {'hyperparameters': {'n_epochs': 5, 'batch_size': 1, 'learning_rate_multiplier': 2.0}}}), FineTuningJob(id='ftjob-QFQNhtUozqWtvyJPdUK6UZu4', created_at=1737983957, error=Error(code='invalid_n_examples', message='Training file has 4 example(s), but must have at least 10 examples', param='training_file'), fine_tuned_model=None, finished_at=None, hyperparameters=Hyperparameters(n_epochs='auto', batch_size='auto', learning_rate_multiplier='auto'), model='gpt-3.5-turbo-0125', object='fine_tuning.job', organization_id='org-sXPAQ2yFy89xxYwRGJMDcmrk', result_files=[], seed=303418996, status='failed', trained_tokens=None, training_file='file-WggDA9MXhUd3UVBSeu7Zcv', validation_file=None, estimated_finish=None, integrations=[], user_provided_suffix=None, method={'type': 'supervised', 'supervised': {'hyperparameters': {'n_epochs': 'auto', 'batch_size': 'auto', 'learning_rate_multiplier': 'auto'}}}), FineTuningJob(id='ftjob-k1517A7pRob2ST1aMnlkzMqv', created_at=1737983896, error=Error(code='invalid_n_examples', message='Training file has 4 example(s), but must have at least 10 examples', param='training_file'), fine_tuned_model=None, finished_at=None, hyperparameters=Hyperparameters(n_epochs='auto', batch_size='auto', learning_rate_multiplier='auto'), model='gpt-3.5-turbo-0125', object='fine_tuning.job', organization_id='org-sXPAQ2yFy89xxYwRGJMDcmrk', result_files=[], seed=2027017276, status='failed', trained_tokens=None, training_file='file-6z9RmLPWJL9Gc38Rrj3VVe', validation_file=None, estimated_finish=None, integrations=[], user_provided_suffix=None, method={'type': 'supervised', 'supervised': {'hyperparameters': {'n_epochs': 'auto', 'batch_size': 'auto', 'learning_rate_multiplier': 'auto'}}}), FineTuningJob(id='ftjob-0VLg8gjkXoHL5X9COyL1z0iN', created_at=1737983419, error=Error(code='invalid_n_examples', message='Training file has 4 example(s), but must have at least 10 examples', param='training_file'), fine_tuned_model=None, finished_at=None, hyperparameters=Hyperparameters(n_epochs='auto', batch_size='auto', learning_rate_multiplier='auto'), model='gpt-3.5-turbo-0125', object='fine_tuning.job', organization_id='org-sXPAQ2yFy89xxYwRGJMDcmrk', result_files=[], seed=2047502792, status='failed', trained_tokens=None, training_file='file-6z9RmLPWJL9Gc38Rrj3VVe', validation_file=None, estimated_finish=None, integrations=[], user_provided_suffix=None, method={'type': 'supervised', 'supervised': {'hyperparameters': {'n_epochs': 'auto', 'batch_size': 'auto', 'learning_rate_multiplier': 'auto'}}}), FineTuningJob(id='ftjob-jIoq9mRu40mSo34qekDPhori', created_at=1737983357, error=Error(code='invalid_n_examples', message='Training file has 4 example(s), but must have at least 10 examples', param='training_file'), fine_tuned_model=None, finished_at=None, hyperparameters=Hyperparameters(n_epochs='auto', batch_size='auto', learning_rate_multiplier='auto'), model='gpt-3.5-turbo-0125', object='fine_tuning.job', organization_id='org-sXPAQ2yFy89xxYwRGJMDcmrk', result_files=[], seed=748165928, status='failed', trained_tokens=None, training_file='file-2uXme3y4ApS954eKi85CZX', validation_file=None, estimated_finish=None, integrations=[], user_provided_suffix=None, method={'type': 'supervised', 'supervised': {'hyperparameters': {'n_epochs': 'auto', 'batch_size': 'auto', 'learning_rate_multiplier': 'auto'}}}), FineTuningJob(id='ftjob-RNx8UH5s2bSz0jgOemMj2Lzr', created_at=1737981502, error=Error(code='invalid_n_examples', message='Training file has 4 example(s), but must have at least 10 examples', param='training_file'), fine_tuned_model=None, finished_at=None, hyperparameters=Hyperparameters(n_epochs='auto', batch_size='auto', learning_rate_multiplier='auto'), model='gpt-3.5-turbo-0125', object='fine_tuning.job', organization_id='org-sXPAQ2yFy89xxYwRGJMDcmrk', result_files=[], seed=198803765, status='failed', trained_tokens=None, training_file='file-2uXme3y4ApS954eKi85CZX', validation_file=None, estimated_finish=None, integrations=[], user_provided_suffix=None, method={'type': 'supervised', 'supervised': {'hyperparameters': {'n_epochs': 'auto', 'batch_size': 'auto', 'learning_rate_multiplier': 'auto'}}}), FineTuningJob(id='ftjob-qwFJMo9zG6ZoIuTfijBgo377', created_at=1737981481, error=Error(code=None, message=None, param=None), fine_tuned_model='ft:gpt-3.5-turbo-0125:personal::AuIlD8Af', finished_at=1737981845, hyperparameters=Hyperparameters(n_epochs=5, batch_size=1, learning_rate_multiplier=2), model='gpt-3.5-turbo-0125', object='fine_tuning.job', organization_id='org-sXPAQ2yFy89xxYwRGJMDcmrk', result_files=['file-BEoRuLSH1sWZU2W4EYSNMq'], seed=1811374377, status='succeeded', trained_tokens=22700, training_file='file-fOZNtCPCfAx3nKZfLPjNvqod', validation_file=None, estimated_finish=None, integrations=[], user_provided_suffix=None, method={'type': 'supervised', 'supervised': {'hyperparameters': {'n_epochs': 5, 'batch_size': 1, 'learning_rate_multiplier': 2.0}}}), FineTuningJob(id='ftjob-wQqjqRBYu1s1SmZkjjj5NP3o', created_at=1737981423, error=Error(code=None, message=None, param=None), fine_tuned_model='ft:gpt-3.5-turbo-0125:personal::AuIk6gDB', finished_at=1737981777, hyperparameters=Hyperparameters(n_epochs=5, batch_size=1, learning_rate_multiplier=2), model='gpt-3.5-turbo-0125', object='fine_tuning.job', organization_id='org-sXPAQ2yFy89xxYwRGJMDcmrk', result_files=['file-KuniBkCCRRxWxGeo8nM1y7'], seed=1478490117, status='succeeded', trained_tokens=22700, training_file='file-fOZNtCPCfAx3nKZfLPjNvqod', validation_file=None, estimated_finish=None, integrations=[], user_provided_suffix=None, method={'type': 'supervised', 'supervised': {'hyperparameters': {'n_epochs': 5, 'batch_size': 1, 'learning_rate_multiplier': 2.0}}}), FineTuningJob(id='ftjob-vPYM8qPBTNheT8x02mN4Fb41', created_at=1731356697, error=Error(code=None, message=None, param=None), fine_tuned_model='ft:gpt-3.5-turbo-0125:personal::ASVLoqoK', finished_at=1731357058, hyperparameters=Hyperparameters(n_epochs=5, batch_size=1, learning_rate_multiplier=2), model='gpt-3.5-turbo-0125', object='fine_tuning.job', organization_id='org-sXPAQ2yFy89xxYwRGJMDcmrk', result_files=['file-uIeNZYIV3m5r7Ft2llwzHMQI'], seed=523783242, status='succeeded', trained_tokens=22700, training_file='file-fOZNtCPCfAx3nKZfLPjNvqod', validation_file=None, estimated_finish=None, integrations=[], user_provided_suffix=None, method=None)], object='list', has_more=False)\n"
     ]
    }
   ],
   "source": [
    "print(client.fine_tuning.jobs.list())"
   ]
  },
  {
   "cell_type": "markdown",
   "metadata": {},
   "source": [
    "### Creando el chat"
   ]
  },
  {
   "cell_type": "code",
   "execution_count": 4,
   "metadata": {},
   "outputs": [
    {
     "data": {
      "text/html": [
       "<pre style=\"white-space:pre;overflow-x:auto;line-height:normal;font-family:Menlo,'DejaVu Sans Mono',consolas,'Courier New',monospace\">¡Pues fíjate! Aunque suene a tirar de ciencia ficción, sí, es posible calcular distancias con solo nuestros dedos  \n",
       "usando una técnica conocida como el método de triangulación. La idea es sencilla: al observar un objeto y cerrar un\n",
       "ojo, puedes usar tu dedo pulgar (o cualquier otro objeto cercano) para \"tapar\" el objeto en cuestión. Moviendo el  \n",
       "dedo de un lado a otro y manteniendo el tamaño aparente del objeto fijo, puedes calcular la distancia basándote en \n",
       "el ángulo que recorre tu dedo. SUENA GENIAL, ¿VERDAD? Las matemáticas detrás de esto son relativamente simples,    \n",
       "basadas en conceptos geométricos clásicos como triangulación y proporciones. En esencia, al hacer movimientos      \n",
       "medidos con tu mano, puedes estimar distancias con una precisión aceptable. ridículo. Su eficacia, sin embargo,    \n",
       "depende de ciertos factores como tener una referencia visual clara y mantener un ángulo constante al mover el dedo.\n",
       "En la práctica, los humanos usamos esta técnica sin pensarlo mucho cuando queremos tener una idea aproximada de la \n",
       "distancia a algo y no tenemos un medidor a mano. Fascinante, ¿verdad? Nunca subestimes el poder de la geometría y  \n",
       "la inventiva humana. Así que la próxima vez que te preguntes si puedes calcular una distancia con solo tus dedos,  \n",
       "¡anímate a probar! Who doesn't love a good maths hack?                                                             \n",
       "</pre>\n"
      ],
      "text/plain": [
       "¡Pues fíjate! Aunque suene a tirar de ciencia ficción, sí, es posible calcular distancias con solo nuestros dedos  \n",
       "usando una técnica conocida como el método de triangulación. La idea es sencilla: al observar un objeto y cerrar un\n",
       "ojo, puedes usar tu dedo pulgar (o cualquier otro objeto cercano) para \"tapar\" el objeto en cuestión. Moviendo el  \n",
       "dedo de un lado a otro y manteniendo el tamaño aparente del objeto fijo, puedes calcular la distancia basándote en \n",
       "el ángulo que recorre tu dedo. SUENA GENIAL, ¿VERDAD? Las matemáticas detrás de esto son relativamente simples,    \n",
       "basadas en conceptos geométricos clásicos como triangulación y proporciones. En esencia, al hacer movimientos      \n",
       "medidos con tu mano, puedes estimar distancias con una precisión aceptable. ridículo. Su eficacia, sin embargo,    \n",
       "depende de ciertos factores como tener una referencia visual clara y mantener un ángulo constante al mover el dedo.\n",
       "En la práctica, los humanos usamos esta técnica sin pensarlo mucho cuando queremos tener una idea aproximada de la \n",
       "distancia a algo y no tenemos un medidor a mano. Fascinante, ¿verdad? Nunca subestimes el poder de la geometría y  \n",
       "la inventiva humana. Así que la próxima vez que te preguntes si puedes calcular una distancia con solo tus dedos,  \n",
       "¡anímate a probar! Who doesn't love a good maths hack?                                                             \n"
      ]
     },
     "metadata": {},
     "output_type": "display_data"
    }
   ],
   "source": [
    "from rich.console import Console\n",
    "from rich.markdown import Markdown\n",
    "\n",
    "messages = [\n",
    "    {\"role\": \"system\", \"content\": \"\"\"Eres un experto en ciencia, divulgación tecnológica y temas sociales. Responde con una longitud de 300 palabras.\"\"\"},\n",
    "    {\"role\": \"user\", \"content\": \"Se pueden calcular distancias con sólo tus dedos?\"}\n",
    "]\n",
    "\n",
    "completion = client.chat.completions.create(\n",
    "    model=\"ft:gpt-3.5-turbo-0125:personal::AwCV0n9Y\",\n",
    "    messages=messages\n",
    ")\n",
    "\n",
    "# Formateo la respuesta con Markdown\n",
    "console = Console()\n",
    "response_text = completion.choices[0].message.content.strip(\"[\").strip(\"]\")\n",
    "console.print(Markdown(response_text))"
   ]
  }
 ],
 "metadata": {
  "kernelspec": {
   "display_name": "Python (mi_nuevo_entorno)",
   "language": "python",
   "name": "mi_nuevo_entorno"
  },
  "language_info": {
   "codemirror_mode": {
    "name": "ipython",
    "version": 3
   },
   "file_extension": ".py",
   "mimetype": "text/x-python",
   "name": "python",
   "nbconvert_exporter": "python",
   "pygments_lexer": "ipython3",
   "version": "3.10.11"
  }
 },
 "nbformat": 4,
 "nbformat_minor": 2
}
